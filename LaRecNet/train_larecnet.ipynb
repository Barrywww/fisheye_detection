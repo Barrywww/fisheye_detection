{
 "nbformat": 4,
 "nbformat_minor": 0,
 "metadata": {
  "colab": {
   "name": "train_larecnet.ipynb",
   "provenance": [],
   "collapsed_sections": [],
   "mount_file_id": "1LjpaJV85E-T05oeLHDLQOxfwYCD5gj60",
   "authorship_tag": "ABX9TyMUqMbS710JTeB3EXtYamW0"
  },
  "kernelspec": {
   "name": "python3",
   "display_name": "Python 3"
  },
  "language_info": {
   "name": "python"
  },
  "accelerator": "GPU"
 },
 "cells": [
  {
   "cell_type": "code",
   "metadata": {
    "id": "Krdf4voruhUd",
    "executionInfo": {
     "status": "ok",
     "timestamp": 1618566102692,
     "user_tz": -480,
     "elapsed": 1255,
     "user": {
      "displayName": "Barry Wang",
      "photoUrl": "https://lh3.googleusercontent.com/a-/AOh14GjoBT1vaAD1nVOVT1It1YGJCFMntR7Oc0eLV9JJ=s64",
      "userId": "08176450454357918866"
     }
    }
   },
   "source": [
    "import torch"
   ],
   "execution_count": 21,
   "outputs": []
  },
  {
   "cell_type": "code",
   "metadata": {
    "id": "J148pepJ6rqv",
    "executionInfo": {
     "status": "ok",
     "timestamp": 1618566102970,
     "user_tz": -480,
     "elapsed": 1525,
     "user": {
      "displayName": "Barry Wang",
      "photoUrl": "https://lh3.googleusercontent.com/a-/AOh14GjoBT1vaAD1nVOVT1It1YGJCFMntR7Oc0eLV9JJ=s64",
      "userId": "08176450454357918866"
     }
    }
   },
   "source": [
    "# print(torch.__version__)"
   ],
   "execution_count": 22,
   "outputs": []
  },
  {
   "cell_type": "code",
   "metadata": {
    "colab": {
     "base_uri": "https://localhost:8080/"
    },
    "id": "gkZm6LJBvFRP",
    "executionInfo": {
     "status": "ok",
     "timestamp": 1618566106586,
     "user_tz": -480,
     "elapsed": 5137,
     "user": {
      "displayName": "Barry Wang",
      "photoUrl": "https://lh3.googleusercontent.com/a-/AOh14GjoBT1vaAD1nVOVT1It1YGJCFMntR7Oc0eLV9JJ=s64",
      "userId": "08176450454357918866"
     }
    },
    "outputId": "5d757253-0264-425c-f961-3774394b8b07"
   },
   "source": [
    "!cp drive/MyDrive/Research_Fisheye/fisheye_detection/LaRecNet/* .\n"
   ],
   "execution_count": 23,
   "outputs": [
    {
     "output_type": "stream",
     "text": [
      "cp: -r not specified; omitting directory 'drive/MyDrive/Research_Fisheye/fisheye_detection/LaRecNet/__pycache__'\n"
     ],
     "name": "stdout"
    }
   ]
  },
  {
   "cell_type": "code",
   "metadata": {
    "id": "ajdaFDAzt26z",
    "executionInfo": {
     "status": "ok",
     "timestamp": 1618566106587,
     "user_tz": -480,
     "elapsed": 5132,
     "user": {
      "displayName": "Barry Wang",
      "photoUrl": "https://lh3.googleusercontent.com/a-/AOh14GjoBT1vaAD1nVOVT1It1YGJCFMntR7Oc0eLV9JJ=s64",
      "userId": "08176450454357918866"
     }
    }
   },
   "source": [
    "device = torch.device(\"cuda:0\" if torch.cuda.is_available() else \"cpu\")"
   ],
   "execution_count": 24,
   "outputs": []
  },
  {
   "cell_type": "code",
   "metadata": {
    "colab": {
     "base_uri": "https://localhost:8080/",
     "height": 35
    },
    "id": "Uq6zJyuDt4tr",
    "executionInfo": {
     "status": "ok",
     "timestamp": 1618566106596,
     "user_tz": -480,
     "elapsed": 5135,
     "user": {
      "displayName": "Barry Wang",
      "photoUrl": "https://lh3.googleusercontent.com/a-/AOh14GjoBT1vaAD1nVOVT1It1YGJCFMntR7Oc0eLV9JJ=s64",
      "userId": "08176450454357918866"
     }
    },
    "outputId": "404c0f01-668b-4dd7-9b11-c47390e3d719"
   },
   "source": [
    "torch.cuda.get_device_name(0)"
   ],
   "execution_count": 25,
   "outputs": [
    {
     "output_type": "execute_result",
     "data": {
      "application/vnd.google.colaboratory.intrinsic+json": {
       "type": "string"
      },
      "text/plain": [
       "'Tesla P100-PCIE-16GB'"
      ]
     },
     "metadata": {
      "tags": []
     },
     "execution_count": 25
    }
   ]
  },
  {
   "cell_type": "code",
   "metadata": {
    "id": "NsuxSd5bwqqj",
    "executionInfo": {
     "status": "ok",
     "timestamp": 1618566106597,
     "user_tz": -480,
     "elapsed": 5130,
     "user": {
      "displayName": "Barry Wang",
      "photoUrl": "https://lh3.googleusercontent.com/a-/AOh14GjoBT1vaAD1nVOVT1It1YGJCFMntR7Oc0eLV9JJ=s64",
      "userId": "08176450454357918866"
     }
    }
   },
   "source": [
    "# torch.cuda.is_available()"
   ],
   "execution_count": 26,
   "outputs": []
  },
  {
   "cell_type": "code",
   "metadata": {
    "id": "mshDXdIC4QeB",
    "executionInfo": {
     "status": "ok",
     "timestamp": 1618566106598,
     "user_tz": -480,
     "elapsed": 5127,
     "user": {
      "displayName": "Barry Wang",
      "photoUrl": "https://lh3.googleusercontent.com/a-/AOh14GjoBT1vaAD1nVOVT1It1YGJCFMntR7Oc0eLV9JJ=s64",
      "userId": "08176450454357918866"
     }
    }
   },
   "source": [
    "torch.cuda.empty_cache()"
   ],
   "execution_count": 27,
   "outputs": []
  },
  {
   "cell_type": "code",
   "metadata": {
    "id": "_meSWq4zt6Iq",
    "executionInfo": {
     "status": "ok",
     "timestamp": 1618566106598,
     "user_tz": -480,
     "elapsed": 5124,
     "user": {
      "displayName": "Barry Wang",
      "photoUrl": "https://lh3.googleusercontent.com/a-/AOh14GjoBT1vaAD1nVOVT1It1YGJCFMntR7Oc0eLV9JJ=s64",
      "userId": "08176450454357918866"
     }
    }
   },
   "source": [
    "DRIVE_PATH  = \"/content/drive/MyDrive/Research_Fisheye/\""
   ],
   "execution_count": 28,
   "outputs": []
  },
  {
   "cell_type": "code",
   "metadata": {
    "id": "MNQT_6pddWoV",
    "executionInfo": {
     "status": "ok",
     "timestamp": 1618566106599,
     "user_tz": -480,
     "elapsed": 5122,
     "user": {
      "displayName": "Barry Wang",
      "photoUrl": "https://lh3.googleusercontent.com/a-/AOh14GjoBT1vaAD1nVOVT1It1YGJCFMntR7Oc0eLV9JJ=s64",
      "userId": "08176450454357918866"
     }
    }
   },
   "source": [
    "# ls drive/MyDrive/Research_Fisheye/Datasets/wireframe/fisheye_pointlines/ > current.txt"
   ],
   "execution_count": 29,
   "outputs": []
  },
  {
   "cell_type": "code",
   "metadata": {
    "id": "In45ZGZ3eMY4",
    "executionInfo": {
     "status": "ok",
     "timestamp": 1618566106599,
     "user_tz": -480,
     "elapsed": 5119,
     "user": {
      "displayName": "Barry Wang",
      "photoUrl": "https://lh3.googleusercontent.com/a-/AOh14GjoBT1vaAD1nVOVT1It1YGJCFMntR7Oc0eLV9JJ=s64",
      "userId": "08176450454357918866"
     }
    }
   },
   "source": [
    "# !cp ./current.txt drive/MyDrive/Research_Fisheye/fisheye_detection/LaRecNet/current.txt"
   ],
   "execution_count": 30,
   "outputs": []
  },
  {
   "cell_type": "code",
   "metadata": {
    "id": "ZSNBtSlU9tCC",
    "executionInfo": {
     "status": "ok",
     "timestamp": 1618566106600,
     "user_tz": -480,
     "elapsed": 5117,
     "user": {
      "displayName": "Barry Wang",
      "photoUrl": "https://lh3.googleusercontent.com/a-/AOh14GjoBT1vaAD1nVOVT1It1YGJCFMntR7Oc0eLV9JJ=s64",
      "userId": "08176450454357918866"
     }
    }
   },
   "source": [
    "# !rm -rf drive/MyDrive/Research_Fisheye/Datasets/wireframe/fisheye_pointlines/*\"(1)\".pkl"
   ],
   "execution_count": 31,
   "outputs": []
  },
  {
   "cell_type": "code",
   "metadata": {
    "id": "CfDuBwsmuM9s",
    "executionInfo": {
     "status": "ok",
     "timestamp": 1618566106600,
     "user_tz": -480,
     "elapsed": 5114,
     "user": {
      "displayName": "Barry Wang",
      "photoUrl": "https://lh3.googleusercontent.com/a-/AOh14GjoBT1vaAD1nVOVT1It1YGJCFMntR7Oc0eLV9JJ=s64",
      "userId": "08176450454357918866"
     }
    }
   },
   "source": [
    "from larecnet import LaRecNet\n",
    "from resnet import BasicBlock\n",
    "import torch.nn as nn\n",
    "import torch.nn.parallel\n",
    "import torch.optim\n",
    "from datasets import *\n",
    "from matplotlib import pyplot\n",
    "from torch.utils.data import DataLoader"
   ],
   "execution_count": 32,
   "outputs": []
  },
  {
   "cell_type": "code",
   "metadata": {
    "id": "6kM5zozDvelr",
    "executionInfo": {
     "status": "ok",
     "timestamp": 1618566106601,
     "user_tz": -480,
     "elapsed": 5112,
     "user": {
      "displayName": "Barry Wang",
      "photoUrl": "https://lh3.googleusercontent.com/a-/AOh14GjoBT1vaAD1nVOVT1It1YGJCFMntR7Oc0eLV9JJ=s64",
      "userId": "08176450454357918866"
     }
    }
   },
   "source": [
    "DATASET = \"wireframe\"\n",
    "DATASET_PATH = DRIVE_PATH + \"Datasets/wireframe/\"\n",
    "GRAPH_PATH = DRIVE_PATH + \"Graphs/\"\n",
    "MODEL_PATH = DRIVE_PATH + \"Models/\"\n",
    "EPOCHS = 100\n",
    "LR = 0.00001\n",
    "BATCH_SIZE = 32\n",
    "TRAIN_LOSSES = []\n",
    "TEST_LOSSES = []"
   ],
   "execution_count": 33,
   "outputs": []
  },
  {
   "cell_type": "code",
   "metadata": {
    "id": "KutmnWgNvg7T",
    "executionInfo": {
     "status": "ok",
     "timestamp": 1618566106601,
     "user_tz": -480,
     "elapsed": 5109,
     "user": {
      "displayName": "Barry Wang",
      "photoUrl": "https://lh3.googleusercontent.com/a-/AOh14GjoBT1vaAD1nVOVT1It1YGJCFMntR7Oc0eLV9JJ=s64",
      "userId": "08176450454357918866"
     }
    }
   },
   "source": [
    "def r_f(angle, k, num_params=5):\n",
    "    result = 0\n",
    "    for i in range(num_params):\n",
    "        result += k[i] * angle ** (2 * (i + 1) - 1)\n",
    "\n",
    "    return result"
   ],
   "execution_count": 34,
   "outputs": []
  },
  {
   "cell_type": "code",
   "metadata": {
    "id": "YTIFhP0QvjHA",
    "executionInfo": {
     "status": "ok",
     "timestamp": 1618566106602,
     "user_tz": -480,
     "elapsed": 5107,
     "user": {
      "displayName": "Barry Wang",
      "photoUrl": "https://lh3.googleusercontent.com/a-/AOh14GjoBT1vaAD1nVOVT1It1YGJCFMntR7Oc0eLV9JJ=s64",
      "userId": "08176450454357918866"
     }
    }
   },
   "source": [
    "class LaRecNetLoss(nn.Module):\n",
    "    def __init__(self, weights=[], lambda_fus=2, lambda_global=1, lambda_local=1,\n",
    "                 lambda_m=2, lambda_geo=100, lambda_pix=1, lambda_para=1):\n",
    "        super(LaRecNetLoss, self).__init__()\n",
    "        # params for MCM\n",
    "        self.weights = np.ones(9)\n",
    "        self.lambda_fus = lambda_fus\n",
    "        self.lambda_global = lambda_global\n",
    "        self.lambda_local = lambda_local\n",
    "\n",
    "        # params for overall network\n",
    "        self.lambda_m = lambda_m\n",
    "        self.lambda_geo = lambda_geo\n",
    "        self.lambda_pix = lambda_pix\n",
    "        self.lambda_para = lambda_para\n",
    "\n",
    "        # fix focal length: True ? False\n",
    "        self.fix_focal = False\n",
    "        self.focal = 0\n",
    "\n",
    "    def fix_focal_length(self, f):\n",
    "        self.fix_focal = True\n",
    "        self.focal = f\n",
    "\n",
    "    def forward(self, x, gt):\n",
    "        k_local, k_global, k_hat = x[0], x[1], x[2]\n",
    "        loss_global = 1 / 9 * (np.dot(self.weights, (k_global, gt[\"distortion\"]))) ** 2\n",
    "        loss_local = 1 / 25 * (self.weights[0:5] * np.dot(k_local, gt[\"distortion\"][0:5])) ** 2\n",
    "        loss_fused = 1 / 9 * (np.dot(self.weights, (k_hat, gt[\"distortion\"]))) ** 2\n",
    "\n",
    "        # loss_para = self.lambda_fus * loss_fused + self.lambda_global * loss_global + self.lambda_local * loss_local\n",
    "        #\n",
    "        # geometric_err = 0\n",
    "        # image_size = len(gt[\"img\"][0])\n",
    "\n",
    "        return loss_fused + loss_local + loss_global\n"
   ],
   "execution_count": 35,
   "outputs": []
  },
  {
   "cell_type": "code",
   "metadata": {
    "id": "CVYQm0CAvlNj",
    "executionInfo": {
     "status": "ok",
     "timestamp": 1618566106602,
     "user_tz": -480,
     "elapsed": 5105,
     "user": {
      "displayName": "Barry Wang",
      "photoUrl": "https://lh3.googleusercontent.com/a-/AOh14GjoBT1vaAD1nVOVT1It1YGJCFMntR7Oc0eLV9JJ=s64",
      "userId": "08176450454357918866"
     }
    }
   },
   "source": [
    "def train(model, inputs, ground_truth):\n",
    "    # loss_func = LaRecNetLoss(weights)\n",
    "    loss_func = torch.nn.MSELoss()\n",
    "    optimizer = torch.optim.Adam(model.parameters(), lr=LR)\n",
    "\n",
    "    total_loss = 0\n",
    "    inputs = torch.reshape(inputs, (BATCH_SIZE, 3, 320, 320))\n",
    "    prediction = model(inputs)\n",
    "    # print(\"Model Output:\", prediction)\n",
    "    loss = loss_func(prediction, ground_truth)\n",
    "\n",
    "    optimizer.zero_grad()\n",
    "    loss.backward()\n",
    "    optimizer.step()\n",
    "\n",
    "    total_loss += loss.item()\n",
    "\n",
    "    return total_loss"
   ],
   "execution_count": 36,
   "outputs": []
  },
  {
   "cell_type": "code",
   "metadata": {
    "id": "YkgT5M4F0k-N",
    "executionInfo": {
     "status": "ok",
     "timestamp": 1618566106603,
     "user_tz": -480,
     "elapsed": 5103,
     "user": {
      "displayName": "Barry Wang",
      "photoUrl": "https://lh3.googleusercontent.com/a-/AOh14GjoBT1vaAD1nVOVT1It1YGJCFMntR7Oc0eLV9JJ=s64",
      "userId": "08176450454357918866"
     }
    }
   },
   "source": [
    "def save_plot(train_loss, test_loss, e):\n",
    "    pyplot.plot(train_loss, label='train')\n",
    "    pyplot.plot(test_loss, label='test')\n",
    "    pyplot.legend()\n",
    "    # save to directory\n",
    "    pyplot.savefig(GRAPH_PATH + \"EPOCH%d\" % e)\n",
    "    # pyplot.show()\n",
    "    pyplot.clf()\n",
    "    print(\"\\n%%%%%%%%%%%%%%%%%%%%%\")\n",
    "    print(\"EPOCH %d graph saved!\" % e)\n",
    "    print(\"%%%%%%%%%%%%%%%%%%%%%\\n\")\n",
    "    return"
   ],
   "execution_count": 37,
   "outputs": []
  },
  {
   "cell_type": "code",
   "metadata": {
    "id": "aUqCFJctvm6t",
    "executionInfo": {
     "status": "ok",
     "timestamp": 1618566107033,
     "user_tz": -480,
     "elapsed": 5530,
     "user": {
      "displayName": "Barry Wang",
      "photoUrl": "https://lh3.googleusercontent.com/a-/AOh14GjoBT1vaAD1nVOVT1It1YGJCFMntR7Oc0eLV9JJ=s64",
      "userId": "08176450454357918866"
     }
    }
   },
   "source": [
    "def main():\n",
    "    if DATASET == \"wireframe\":\n",
    "        wireframe_train = Wireframe(DATASET_PATH + \"tasks/train_4320.txt\")\n",
    "        wireframe_test = Wireframe(DATASET_PATH + \"tasks/test_1080.txt\")\n",
    "        dataset_loader = DataLoader(dataset=wireframe_train, batch_size=BATCH_SIZE, pin_memory=True, drop_last=True, shuffle=True)\n",
    "        test_loader = DataLoader(dataset=wireframe_test, batch_size=BATCH_SIZE, pin_memory=True, drop_last=True, shuffle=True)\n",
    "    else:\n",
    "        dataset_loader = None\n",
    "\n",
    "    model = LaRecNet(block=BasicBlock, layers=[2, 2, 2, 2], batch_size=BATCH_SIZE)\n",
    "    model.to(device)\n",
    "    # loss_func = LaRecNetLoss(weights)\n",
    "    loss_func = torch.nn.MSELoss()\n",
    "    optimizer = torch.optim.Adam(model.parameters(), lr=LR)\n",
    "    # scheduler = torch.optim.lr_scheduler.MultiStepLR(optimizer, [30])\n",
    "    for i in range(EPOCHS):\n",
    "        print(\"\\n>>>>>>>>>>>>>>>>>>>>>>>>>>>>>\")\n",
    "        print(\"EPOCH %d STARTED\" % (i+1))\n",
    "        epoch_loss_train = []\n",
    "        epoch_loss_test = []\n",
    "        for idx, data in enumerate(dataset_loader):\n",
    "            inputs, ground_truth = data\n",
    "            inputs = torch.reshape(inputs, (BATCH_SIZE, 3, 320, 320))\n",
    "            inputs = inputs.to(device)\n",
    "            ground_truth = ground_truth.to(device)\n",
    "            prediction = model(inputs)\n",
    "            # print(\"F_GroundTruth:\", torch.reshape(ground_truth ,(1, BATCH_SIZE)))\n",
    "            loss = loss_func(prediction, ground_truth)\n",
    "            epoch_loss_train.append(loss)\n",
    "\n",
    "            optimizer.zero_grad()\n",
    "            loss.backward()\n",
    "            optimizer.step()\n",
    "            # scheduler.step()\n",
    "        \n",
    "        avg_loss = sum(epoch_loss_train) / len(epoch_loss_train)\n",
    "        TRAIN_LOSSES.append(avg_loss)\n",
    "        print(\"##### EPOCH %d train finished.\" % (i+1))\n",
    "        print(\"##### Average train loss:\", avg_loss)\n",
    "        \n",
    "        print(\"##### Start testing...\")\n",
    "        with torch.no_grad():\n",
    "            for idx, data in enumerate(test_loader):\n",
    "                input, ground_truch = data\n",
    "                inputs = torch.reshape(inputs, (BATCH_SIZE, 3, 320, 320))\n",
    "                inputs = inputs.to(device)\n",
    "                ground_truth = ground_truth.to(device)\n",
    "                prediction = model(inputs)\n",
    "                loss = loss_func(prediction, ground_truth)\n",
    "                epoch_loss_test.append(loss)\n",
    "            avg_loss = sum(epoch_loss_test) / len(epoch_loss_test)\n",
    "            TEST_LOSSES.append(avg_loss)\n",
    "        print(\"##### EPOCH %d test finished.\" % (i+1))\n",
    "        print(\"##### Average test loss:\", avg_loss)\n",
    "        save_plot(TRAIN_LOSSES, TEST_LOSSES, i+1)\n",
    "          \n",
    "        if (i+1) % 10 == 0:\n",
    "          torch.save(model, MODEL_PATH + \"NEW_EPOCH%d.pkl\" %(i+1))\n",
    "\n",
    "        \n",
    "        print(\"EPOCH %d FINISH\" % (i+1))\n",
    "        print(\"\\n-----------------------------\")\n",
    "    return model"
   ],
   "execution_count": 38,
   "outputs": []
  },
  {
   "cell_type": "code",
   "metadata": {
    "id": "J8Ieqh0dxk5X",
    "colab": {
     "base_uri": "https://localhost:8080/",
     "height": 974
    },
    "executionInfo": {
     "status": "error",
     "timestamp": 1618566122017,
     "user_tz": -480,
     "elapsed": 20511,
     "user": {
      "displayName": "Barry Wang",
      "photoUrl": "https://lh3.googleusercontent.com/a-/AOh14GjoBT1vaAD1nVOVT1It1YGJCFMntR7Oc0eLV9JJ=s64",
      "userId": "08176450454357918866"
     }
    },
    "outputId": "5a523388-50b7-4e01-d9c3-e7775f27a36b"
   },
   "source": [
    "model = main()\n",
    "torch.save(model, MODEL_PATH + \"FINAL.pkl\")"
   ],
   "execution_count": 39,
   "outputs": [
    {
     "output_type": "stream",
     "text": [
      "\n",
      ">>>>>>>>>>>>>>>>>>>>>>>>>>>>>\n",
      "EPOCH 1 STARTED\n"
     ],
     "name": "stdout"
    },
    {
     "output_type": "error",
     "ename": "RuntimeError",
     "evalue": "ignored",
     "traceback": [
      "\u001B[0;31m---------------------------------------------------------------------------\u001B[0m",
      "\u001B[0;31mRuntimeError\u001B[0m                              Traceback (most recent call last)",
      "\u001B[0;32m<ipython-input-39-0b2f3efc9590>\u001B[0m in \u001B[0;36m<module>\u001B[0;34m()\u001B[0m\n\u001B[0;32m----> 1\u001B[0;31m \u001B[0mmodel\u001B[0m \u001B[0;34m=\u001B[0m \u001B[0mmain\u001B[0m\u001B[0;34m(\u001B[0m\u001B[0;34m)\u001B[0m\u001B[0;34m\u001B[0m\u001B[0;34m\u001B[0m\u001B[0m\n\u001B[0m\u001B[1;32m      2\u001B[0m \u001B[0mtorch\u001B[0m\u001B[0;34m.\u001B[0m\u001B[0msave\u001B[0m\u001B[0;34m(\u001B[0m\u001B[0mmodel\u001B[0m\u001B[0;34m,\u001B[0m \u001B[0mMODEL_PATH\u001B[0m \u001B[0;34m+\u001B[0m \u001B[0;34m\"FINAL.pkl\"\u001B[0m\u001B[0;34m)\u001B[0m\u001B[0;34m\u001B[0m\u001B[0;34m\u001B[0m\u001B[0m\n",
      "\u001B[0;32m<ipython-input-38-f1ab9fdbf5e5>\u001B[0m in \u001B[0;36mmain\u001B[0;34m()\u001B[0m\n\u001B[1;32m     24\u001B[0m             \u001B[0minputs\u001B[0m \u001B[0;34m=\u001B[0m \u001B[0minputs\u001B[0m\u001B[0;34m.\u001B[0m\u001B[0mto\u001B[0m\u001B[0;34m(\u001B[0m\u001B[0mdevice\u001B[0m\u001B[0;34m)\u001B[0m\u001B[0;34m\u001B[0m\u001B[0;34m\u001B[0m\u001B[0m\n\u001B[1;32m     25\u001B[0m             \u001B[0mground_truth\u001B[0m \u001B[0;34m=\u001B[0m \u001B[0mground_truth\u001B[0m\u001B[0;34m.\u001B[0m\u001B[0mto\u001B[0m\u001B[0;34m(\u001B[0m\u001B[0mdevice\u001B[0m\u001B[0;34m)\u001B[0m\u001B[0;34m\u001B[0m\u001B[0;34m\u001B[0m\u001B[0m\n\u001B[0;32m---> 26\u001B[0;31m             \u001B[0mprediction\u001B[0m \u001B[0;34m=\u001B[0m \u001B[0mmodel\u001B[0m\u001B[0;34m(\u001B[0m\u001B[0minputs\u001B[0m\u001B[0;34m)\u001B[0m\u001B[0;34m\u001B[0m\u001B[0;34m\u001B[0m\u001B[0m\n\u001B[0m\u001B[1;32m     27\u001B[0m             \u001B[0;31m# print(\"F_GroundTruth:\", torch.reshape(ground_truth ,(1, BATCH_SIZE)))\u001B[0m\u001B[0;34m\u001B[0m\u001B[0;34m\u001B[0m\u001B[0;34m\u001B[0m\u001B[0m\n\u001B[1;32m     28\u001B[0m             \u001B[0mloss\u001B[0m \u001B[0;34m=\u001B[0m \u001B[0mloss_func\u001B[0m\u001B[0;34m(\u001B[0m\u001B[0mprediction\u001B[0m\u001B[0;34m,\u001B[0m \u001B[0mground_truth\u001B[0m\u001B[0;34m)\u001B[0m\u001B[0;34m\u001B[0m\u001B[0;34m\u001B[0m\u001B[0m\n",
      "\u001B[0;32m/usr/local/lib/python3.7/dist-packages/torch/nn/modules/module.py\u001B[0m in \u001B[0;36m_call_impl\u001B[0;34m(self, *input, **kwargs)\u001B[0m\n\u001B[1;32m    887\u001B[0m             \u001B[0mresult\u001B[0m \u001B[0;34m=\u001B[0m \u001B[0mself\u001B[0m\u001B[0;34m.\u001B[0m\u001B[0m_slow_forward\u001B[0m\u001B[0;34m(\u001B[0m\u001B[0;34m*\u001B[0m\u001B[0minput\u001B[0m\u001B[0;34m,\u001B[0m \u001B[0;34m**\u001B[0m\u001B[0mkwargs\u001B[0m\u001B[0;34m)\u001B[0m\u001B[0;34m\u001B[0m\u001B[0;34m\u001B[0m\u001B[0m\n\u001B[1;32m    888\u001B[0m         \u001B[0;32melse\u001B[0m\u001B[0;34m:\u001B[0m\u001B[0;34m\u001B[0m\u001B[0;34m\u001B[0m\u001B[0m\n\u001B[0;32m--> 889\u001B[0;31m             \u001B[0mresult\u001B[0m \u001B[0;34m=\u001B[0m \u001B[0mself\u001B[0m\u001B[0;34m.\u001B[0m\u001B[0mforward\u001B[0m\u001B[0;34m(\u001B[0m\u001B[0;34m*\u001B[0m\u001B[0minput\u001B[0m\u001B[0;34m,\u001B[0m \u001B[0;34m**\u001B[0m\u001B[0mkwargs\u001B[0m\u001B[0;34m)\u001B[0m\u001B[0;34m\u001B[0m\u001B[0;34m\u001B[0m\u001B[0m\n\u001B[0m\u001B[1;32m    890\u001B[0m         for hook in itertools.chain(\n\u001B[1;32m    891\u001B[0m                 \u001B[0m_global_forward_hooks\u001B[0m\u001B[0;34m.\u001B[0m\u001B[0mvalues\u001B[0m\u001B[0;34m(\u001B[0m\u001B[0;34m)\u001B[0m\u001B[0;34m,\u001B[0m\u001B[0;34m\u001B[0m\u001B[0;34m\u001B[0m\u001B[0m\n",
      "\u001B[0;32m/content/larecnet.py\u001B[0m in \u001B[0;36mforward\u001B[0;34m(self, x)\u001B[0m\n\u001B[1;32m     62\u001B[0m         \"\"\"\n\u001B[1;32m     63\u001B[0m         \u001B[0mx\u001B[0m \u001B[0;34m=\u001B[0m \u001B[0mself\u001B[0m\u001B[0;34m.\u001B[0m\u001B[0mconv1\u001B[0m\u001B[0;34m(\u001B[0m\u001B[0mx\u001B[0m\u001B[0;34m)\u001B[0m\u001B[0;34m\u001B[0m\u001B[0;34m\u001B[0m\u001B[0m\n\u001B[0;32m---> 64\u001B[0;31m         \u001B[0mx\u001B[0m \u001B[0;34m=\u001B[0m \u001B[0mself\u001B[0m\u001B[0;34m.\u001B[0m\u001B[0mbn1\u001B[0m\u001B[0;34m(\u001B[0m\u001B[0mx\u001B[0m\u001B[0;34m)\u001B[0m\u001B[0;34m\u001B[0m\u001B[0;34m\u001B[0m\u001B[0m\n\u001B[0m\u001B[1;32m     65\u001B[0m         \u001B[0mx\u001B[0m \u001B[0;34m=\u001B[0m \u001B[0mself\u001B[0m\u001B[0;34m.\u001B[0m\u001B[0mrelu\u001B[0m\u001B[0;34m(\u001B[0m\u001B[0mx\u001B[0m\u001B[0;34m)\u001B[0m\u001B[0;34m\u001B[0m\u001B[0;34m\u001B[0m\u001B[0m\n\u001B[1;32m     66\u001B[0m         \u001B[0mx\u001B[0m \u001B[0;34m=\u001B[0m \u001B[0mself\u001B[0m\u001B[0;34m.\u001B[0m\u001B[0mmaxpool\u001B[0m\u001B[0;34m(\u001B[0m\u001B[0mx\u001B[0m\u001B[0;34m)\u001B[0m\u001B[0;34m\u001B[0m\u001B[0;34m\u001B[0m\u001B[0m\n",
      "\u001B[0;32m/usr/local/lib/python3.7/dist-packages/torch/nn/modules/module.py\u001B[0m in \u001B[0;36m_call_impl\u001B[0;34m(self, *input, **kwargs)\u001B[0m\n\u001B[1;32m    887\u001B[0m             \u001B[0mresult\u001B[0m \u001B[0;34m=\u001B[0m \u001B[0mself\u001B[0m\u001B[0;34m.\u001B[0m\u001B[0m_slow_forward\u001B[0m\u001B[0;34m(\u001B[0m\u001B[0;34m*\u001B[0m\u001B[0minput\u001B[0m\u001B[0;34m,\u001B[0m \u001B[0;34m**\u001B[0m\u001B[0mkwargs\u001B[0m\u001B[0;34m)\u001B[0m\u001B[0;34m\u001B[0m\u001B[0;34m\u001B[0m\u001B[0m\n\u001B[1;32m    888\u001B[0m         \u001B[0;32melse\u001B[0m\u001B[0;34m:\u001B[0m\u001B[0;34m\u001B[0m\u001B[0;34m\u001B[0m\u001B[0m\n\u001B[0;32m--> 889\u001B[0;31m             \u001B[0mresult\u001B[0m \u001B[0;34m=\u001B[0m \u001B[0mself\u001B[0m\u001B[0;34m.\u001B[0m\u001B[0mforward\u001B[0m\u001B[0;34m(\u001B[0m\u001B[0;34m*\u001B[0m\u001B[0minput\u001B[0m\u001B[0;34m,\u001B[0m \u001B[0;34m**\u001B[0m\u001B[0mkwargs\u001B[0m\u001B[0;34m)\u001B[0m\u001B[0;34m\u001B[0m\u001B[0;34m\u001B[0m\u001B[0m\n\u001B[0m\u001B[1;32m    890\u001B[0m         for hook in itertools.chain(\n\u001B[1;32m    891\u001B[0m                 \u001B[0m_global_forward_hooks\u001B[0m\u001B[0;34m.\u001B[0m\u001B[0mvalues\u001B[0m\u001B[0;34m(\u001B[0m\u001B[0;34m)\u001B[0m\u001B[0;34m,\u001B[0m\u001B[0;34m\u001B[0m\u001B[0;34m\u001B[0m\u001B[0m\n",
      "\u001B[0;32m/usr/local/lib/python3.7/dist-packages/torch/nn/modules/batchnorm.py\u001B[0m in \u001B[0;36mforward\u001B[0;34m(self, input)\u001B[0m\n\u001B[1;32m    138\u001B[0m             \u001B[0mself\u001B[0m\u001B[0;34m.\u001B[0m\u001B[0mrunning_mean\u001B[0m \u001B[0;32mif\u001B[0m \u001B[0;32mnot\u001B[0m \u001B[0mself\u001B[0m\u001B[0;34m.\u001B[0m\u001B[0mtraining\u001B[0m \u001B[0;32mor\u001B[0m \u001B[0mself\u001B[0m\u001B[0;34m.\u001B[0m\u001B[0mtrack_running_stats\u001B[0m \u001B[0;32melse\u001B[0m \u001B[0;32mNone\u001B[0m\u001B[0;34m,\u001B[0m\u001B[0;34m\u001B[0m\u001B[0;34m\u001B[0m\u001B[0m\n\u001B[1;32m    139\u001B[0m             \u001B[0mself\u001B[0m\u001B[0;34m.\u001B[0m\u001B[0mrunning_var\u001B[0m \u001B[0;32mif\u001B[0m \u001B[0;32mnot\u001B[0m \u001B[0mself\u001B[0m\u001B[0;34m.\u001B[0m\u001B[0mtraining\u001B[0m \u001B[0;32mor\u001B[0m \u001B[0mself\u001B[0m\u001B[0;34m.\u001B[0m\u001B[0mtrack_running_stats\u001B[0m \u001B[0;32melse\u001B[0m \u001B[0;32mNone\u001B[0m\u001B[0;34m,\u001B[0m\u001B[0;34m\u001B[0m\u001B[0;34m\u001B[0m\u001B[0m\n\u001B[0;32m--> 140\u001B[0;31m             self.weight, self.bias, bn_training, exponential_average_factor, self.eps)\n\u001B[0m\u001B[1;32m    141\u001B[0m \u001B[0;34m\u001B[0m\u001B[0m\n\u001B[1;32m    142\u001B[0m \u001B[0;34m\u001B[0m\u001B[0m\n",
      "\u001B[0;32m/usr/local/lib/python3.7/dist-packages/torch/nn/functional.py\u001B[0m in \u001B[0;36mbatch_norm\u001B[0;34m(input, running_mean, running_var, weight, bias, training, momentum, eps)\u001B[0m\n\u001B[1;32m   2148\u001B[0m \u001B[0;34m\u001B[0m\u001B[0m\n\u001B[1;32m   2149\u001B[0m     return torch.batch_norm(\n\u001B[0;32m-> 2150\u001B[0;31m         \u001B[0minput\u001B[0m\u001B[0;34m,\u001B[0m \u001B[0mweight\u001B[0m\u001B[0;34m,\u001B[0m \u001B[0mbias\u001B[0m\u001B[0;34m,\u001B[0m \u001B[0mrunning_mean\u001B[0m\u001B[0;34m,\u001B[0m \u001B[0mrunning_var\u001B[0m\u001B[0;34m,\u001B[0m \u001B[0mtraining\u001B[0m\u001B[0;34m,\u001B[0m \u001B[0mmomentum\u001B[0m\u001B[0;34m,\u001B[0m \u001B[0meps\u001B[0m\u001B[0;34m,\u001B[0m \u001B[0mtorch\u001B[0m\u001B[0;34m.\u001B[0m\u001B[0mbackends\u001B[0m\u001B[0;34m.\u001B[0m\u001B[0mcudnn\u001B[0m\u001B[0;34m.\u001B[0m\u001B[0menabled\u001B[0m\u001B[0;34m\u001B[0m\u001B[0;34m\u001B[0m\u001B[0m\n\u001B[0m\u001B[1;32m   2151\u001B[0m     )\n\u001B[1;32m   2152\u001B[0m \u001B[0;34m\u001B[0m\u001B[0m\n",
      "\u001B[0;31mRuntimeError\u001B[0m: CUDA out of memory. Tried to allocate 3.12 GiB (GPU 0; 15.90 GiB total capacity; 14.82 GiB already allocated; 191.75 MiB free; 14.83 GiB reserved in total by PyTorch)"
     ]
    }
   ]
  }
 ]
}